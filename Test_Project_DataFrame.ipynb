{
 "cells": [
  {
   "cell_type": "code",
   "execution_count": 2,
   "id": "9c9b322a-e1b2-4bb7-9d21-68c95852bafa",
   "metadata": {},
   "outputs": [],
   "source": [
    "import pandas as pd\n",
    "import numpy as np"
   ]
  },
  {
   "cell_type": "code",
   "execution_count": 4,
   "id": "8a90a99b-4a39-4b49-92bb-7fcbf65c2f00",
   "metadata": {},
   "outputs": [],
   "source": [
    "df=pd.DataFrame(np.arange(0,15).reshape(3, 5),index=['Row1', 'Row2', 'Row3'],columns=['col1','col2','col3','col4','col5'])"
   ]
  },
  {
   "cell_type": "code",
   "execution_count": null,
   "id": "bf6e57b0-7265-4818-b627-819a9335e9bd",
   "metadata": {},
   "outputs": [],
   "source": [
    "df.head()"
   ]
  },
  {
   "cell_type": "code",
   "execution_count": 9,
   "id": "1c3cc378-b6c0-4eac-a604-ae203e9668e9",
   "metadata": {},
   "outputs": [],
   "source": [
    "df.to_csv('Class_Project.csv')"
   ]
  },
  {
   "cell_type": "code",
   "execution_count": null,
   "id": "ee6e3e79-96e1-4acb-a9b4-41fe73cfb164",
   "metadata": {},
   "outputs": [],
   "source": []
  }
 ],
 "metadata": {
  "kernelspec": {
   "display_name": "Python 3 (ipykernel)",
   "language": "python",
   "name": "python3"
  },
  "language_info": {
   "codemirror_mode": {
    "name": "ipython",
    "version": 3
   },
   "file_extension": ".py",
   "mimetype": "text/x-python",
   "name": "python",
   "nbconvert_exporter": "python",
   "pygments_lexer": "ipython3",
   "version": "3.12.7"
  }
 },
 "nbformat": 4,
 "nbformat_minor": 5
}
